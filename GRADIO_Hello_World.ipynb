{
  "cells": [
    {
      "cell_type": "markdown",
      "metadata": {
        "id": "view-in-github",
        "colab_type": "text"
      },
      "source": [
        "<a href=\"https://colab.research.google.com/github/OvieIboyitie/Predicting-rock-Lithology-using-Machine-learning/blob/main/GRADIO_Hello_World.ipynb\" target=\"_parent\"><img src=\"https://colab.research.google.com/assets/colab-badge.svg\" alt=\"Open In Colab\"/></a>"
      ]
    },
    {
      "cell_type": "markdown",
      "metadata": {
        "id": "D_XJcxqx22uj"
      },
      "source": [
        "## Using Gradio to create a simple interface.\n",
        "\n",
        "Check out the library on [github](https://github.com/gradio-app/gradio-UI) and see the [getting started](https://gradio.app/getting_started.html) page for more demos."
      ]
    },
    {
      "cell_type": "markdown",
      "metadata": {
        "id": "AUHtJ20jYqd9"
      },
      "source": [
        "We'll start with a basic function that greets an input name."
      ]
    },
    {
      "cell_type": "code",
      "execution_count": 4,
      "metadata": {
        "colab": {
          "base_uri": "https://localhost:8080/",
          "height": 36
        },
        "id": "qtlFLbke2Sob",
        "outputId": "17a6d1db-f96c-4115-9f51-654fb8909c7a"
      },
      "outputs": [
        {
          "output_type": "execute_result",
          "data": {
            "text/plain": [
              "'Hello World!'"
            ],
            "application/vnd.google.colaboratory.intrinsic+json": {
              "type": "string"
            }
          },
          "metadata": {},
          "execution_count": 4
        }
      ],
      "source": [
        "def greet(name):\n",
        "  return \"Hello \" + name + \"!\"\n",
        "\n",
        "greet(\"World\")"
      ]
    },
    {
      "cell_type": "markdown",
      "metadata": {
        "id": "R06dbZZaYJDq"
      },
      "source": [
        "Now we'll wrap this function with a Gradio interface."
      ]
    },
    {
      "cell_type": "code",
      "execution_count": 5,
      "metadata": {
        "id": "fJUJLWQ92g6R"
      },
      "outputs": [],
      "source": [
        "!pip install -q gradio"
      ]
    },
    {
      "cell_type": "code",
      "execution_count": 6,
      "metadata": {
        "colab": {
          "base_uri": "https://localhost:8080/",
          "height": 616
        },
        "id": "e200MmBU2aLT",
        "outputId": "eb3bbb0a-faa6-473b-ccd6-78d20bd2ff3b"
      },
      "outputs": [
        {
          "output_type": "stream",
          "name": "stdout",
          "text": [
            "Colab notebook detected. To show errors in colab notebook, set debug=True in launch()\n",
            "Running on public URL: https://9b9575cbb66f931843.gradio.live\n",
            "\n",
            "This share link expires in 72 hours. For free permanent hosting and GPU upgrades, run `gradio deploy` from Terminal to deploy to Spaces (https://huggingface.co/spaces)\n"
          ]
        },
        {
          "output_type": "display_data",
          "data": {
            "text/plain": [
              "<IPython.core.display.HTML object>"
            ],
            "text/html": [
              "<div><iframe src=\"https://9b9575cbb66f931843.gradio.live\" width=\"100%\" height=\"500\" allow=\"autoplay; camera; microphone; clipboard-read; clipboard-write;\" frameborder=\"0\" allowfullscreen></iframe></div>"
            ]
          },
          "metadata": {}
        },
        {
          "output_type": "execute_result",
          "data": {
            "text/plain": []
          },
          "metadata": {},
          "execution_count": 6
        }
      ],
      "source": [
        "import gradio\n",
        "\n",
        "gradio.Interface(greet, \"text\", \"text\").launch(share=True)"
      ]
    },
    {
      "cell_type": "markdown",
      "metadata": {
        "id": "uQheRaw5YVTL"
      },
      "source": [
        "That's all! Go ahead and open that share link in a new tab. Check out our [getting started](https://gradio.app/getting_started.html) page for more complicated demos."
      ]
    },
    {
      "cell_type": "code",
      "source": [
        "import gradio as gr\n",
        "\n",
        "def greet(name, is_morning, temperature):\n",
        "    salutation = \"Good morning\" if is_morning else \"Good evening\"\n",
        "    greeting = f\"{salutation} {name}. It is {temperature} degrees today\"\n",
        "    celsius = (temperature - 32) * 5 / 9\n",
        "    return greeting, round(celsius, 2)\n",
        "\n",
        "demo = gr.Interface(\n",
        "    fn=greet,\n",
        "    inputs=[\"text\", \"checkbox\", gr.Slider(0, 100)],\n",
        "    outputs=[\"text\", \"number\"],\n",
        ")\n",
        "demo.launch()"
      ],
      "metadata": {
        "id": "_YS7iaQnOMoa",
        "outputId": "1acf327b-d5fd-4f05-a8d6-bf8ac1c9d3c1",
        "colab": {
          "base_uri": "https://localhost:8080/",
          "height": 621
        }
      },
      "execution_count": 7,
      "outputs": [
        {
          "output_type": "stream",
          "name": "stdout",
          "text": [
            "Colab notebook detected. To show errors in colab notebook, set debug=True in launch()\n",
            "Note: opening Chrome Inspector may crash demo inside Colab notebooks.\n",
            "\n",
            "To create a public link, set `share=True` in `launch()`.\n"
          ]
        },
        {
          "output_type": "display_data",
          "data": {
            "text/plain": [
              "<IPython.core.display.Javascript object>"
            ],
            "application/javascript": [
              "(async (port, path, width, height, cache, element) => {\n",
              "                        if (!google.colab.kernel.accessAllowed && !cache) {\n",
              "                            return;\n",
              "                        }\n",
              "                        element.appendChild(document.createTextNode(''));\n",
              "                        const url = await google.colab.kernel.proxyPort(port, {cache});\n",
              "\n",
              "                        const external_link = document.createElement('div');\n",
              "                        external_link.innerHTML = `\n",
              "                            <div style=\"font-family: monospace; margin-bottom: 0.5rem\">\n",
              "                                Running on <a href=${new URL(path, url).toString()} target=\"_blank\">\n",
              "                                    https://localhost:${port}${path}\n",
              "                                </a>\n",
              "                            </div>\n",
              "                        `;\n",
              "                        element.appendChild(external_link);\n",
              "\n",
              "                        const iframe = document.createElement('iframe');\n",
              "                        iframe.src = new URL(path, url).toString();\n",
              "                        iframe.height = height;\n",
              "                        iframe.allow = \"autoplay; camera; microphone; clipboard-read; clipboard-write;\"\n",
              "                        iframe.width = width;\n",
              "                        iframe.style.border = 0;\n",
              "                        element.appendChild(iframe);\n",
              "                    })(7862, \"/\", \"100%\", 500, false, window.element)"
            ]
          },
          "metadata": {}
        },
        {
          "output_type": "execute_result",
          "data": {
            "text/plain": []
          },
          "metadata": {},
          "execution_count": 7
        }
      ]
    },
    {
      "cell_type": "code",
      "source": [
        "!pip install gradio\n"
      ],
      "metadata": {
        "id": "7NEXlBvwOUEa",
        "outputId": "87b6f234-9d24-4a0d-e177-427016fd5bb0",
        "colab": {
          "base_uri": "https://localhost:8080/"
        }
      },
      "execution_count": 8,
      "outputs": [
        {
          "output_type": "stream",
          "name": "stdout",
          "text": [
            "Requirement already satisfied: gradio in /usr/local/lib/python3.10/dist-packages (3.38.0)\n",
            "Requirement already satisfied: aiofiles<24.0,>=22.0 in /usr/local/lib/python3.10/dist-packages (from gradio) (23.1.0)\n",
            "Requirement already satisfied: aiohttp~=3.0 in /usr/local/lib/python3.10/dist-packages (from gradio) (3.8.5)\n",
            "Requirement already satisfied: altair<6.0,>=4.2.0 in /usr/local/lib/python3.10/dist-packages (from gradio) (4.2.2)\n",
            "Requirement already satisfied: fastapi in /usr/local/lib/python3.10/dist-packages (from gradio) (0.100.0)\n",
            "Requirement already satisfied: ffmpy in /usr/local/lib/python3.10/dist-packages (from gradio) (0.3.1)\n",
            "Requirement already satisfied: gradio-client>=0.2.10 in /usr/local/lib/python3.10/dist-packages (from gradio) (0.2.10)\n",
            "Requirement already satisfied: httpx in /usr/local/lib/python3.10/dist-packages (from gradio) (0.24.1)\n",
            "Requirement already satisfied: huggingface-hub>=0.14.0 in /usr/local/lib/python3.10/dist-packages (from gradio) (0.16.4)\n",
            "Requirement already satisfied: jinja2<4.0 in /usr/local/lib/python3.10/dist-packages (from gradio) (3.1.2)\n",
            "Requirement already satisfied: markdown-it-py[linkify]>=2.0.0 in /usr/local/lib/python3.10/dist-packages (from gradio) (2.2.0)\n",
            "Requirement already satisfied: markupsafe~=2.0 in /usr/local/lib/python3.10/dist-packages (from gradio) (2.1.3)\n",
            "Requirement already satisfied: matplotlib~=3.0 in /usr/local/lib/python3.10/dist-packages (from gradio) (3.7.1)\n",
            "Requirement already satisfied: mdit-py-plugins<=0.3.3 in /usr/local/lib/python3.10/dist-packages (from gradio) (0.3.3)\n",
            "Requirement already satisfied: numpy~=1.0 in /usr/local/lib/python3.10/dist-packages (from gradio) (1.22.4)\n",
            "Requirement already satisfied: orjson~=3.0 in /usr/local/lib/python3.10/dist-packages (from gradio) (3.9.2)\n",
            "Requirement already satisfied: packaging in /usr/local/lib/python3.10/dist-packages (from gradio) (23.1)\n",
            "Requirement already satisfied: pandas<3.0,>=1.0 in /usr/local/lib/python3.10/dist-packages (from gradio) (1.5.3)\n",
            "Requirement already satisfied: pillow<11.0,>=8.0 in /usr/local/lib/python3.10/dist-packages (from gradio) (9.4.0)\n",
            "Requirement already satisfied: pydantic!=1.8,!=1.8.1,!=2.0.0,!=2.0.1,<3.0.0,>=1.7.4 in /usr/local/lib/python3.10/dist-packages (from gradio) (1.10.11)\n",
            "Requirement already satisfied: pydub in /usr/local/lib/python3.10/dist-packages (from gradio) (0.25.1)\n",
            "Requirement already satisfied: python-multipart in /usr/local/lib/python3.10/dist-packages (from gradio) (0.0.6)\n",
            "Requirement already satisfied: pyyaml<7.0,>=5.0 in /usr/local/lib/python3.10/dist-packages (from gradio) (6.0.1)\n",
            "Requirement already satisfied: requests~=2.0 in /usr/local/lib/python3.10/dist-packages (from gradio) (2.27.1)\n",
            "Requirement already satisfied: semantic-version~=2.0 in /usr/local/lib/python3.10/dist-packages (from gradio) (2.10.0)\n",
            "Requirement already satisfied: typing-extensions~=4.0 in /usr/local/lib/python3.10/dist-packages (from gradio) (4.7.1)\n",
            "Requirement already satisfied: uvicorn>=0.14.0 in /usr/local/lib/python3.10/dist-packages (from gradio) (0.23.1)\n",
            "Requirement already satisfied: websockets<12.0,>=10.0 in /usr/local/lib/python3.10/dist-packages (from gradio) (11.0.3)\n",
            "Requirement already satisfied: attrs>=17.3.0 in /usr/local/lib/python3.10/dist-packages (from aiohttp~=3.0->gradio) (23.1.0)\n",
            "Requirement already satisfied: charset-normalizer<4.0,>=2.0 in /usr/local/lib/python3.10/dist-packages (from aiohttp~=3.0->gradio) (2.0.12)\n",
            "Requirement already satisfied: multidict<7.0,>=4.5 in /usr/local/lib/python3.10/dist-packages (from aiohttp~=3.0->gradio) (6.0.4)\n",
            "Requirement already satisfied: async-timeout<5.0,>=4.0.0a3 in /usr/local/lib/python3.10/dist-packages (from aiohttp~=3.0->gradio) (4.0.2)\n",
            "Requirement already satisfied: yarl<2.0,>=1.0 in /usr/local/lib/python3.10/dist-packages (from aiohttp~=3.0->gradio) (1.9.2)\n",
            "Requirement already satisfied: frozenlist>=1.1.1 in /usr/local/lib/python3.10/dist-packages (from aiohttp~=3.0->gradio) (1.4.0)\n",
            "Requirement already satisfied: aiosignal>=1.1.2 in /usr/local/lib/python3.10/dist-packages (from aiohttp~=3.0->gradio) (1.3.1)\n",
            "Requirement already satisfied: entrypoints in /usr/local/lib/python3.10/dist-packages (from altair<6.0,>=4.2.0->gradio) (0.4)\n",
            "Requirement already satisfied: jsonschema>=3.0 in /usr/local/lib/python3.10/dist-packages (from altair<6.0,>=4.2.0->gradio) (4.3.3)\n",
            "Requirement already satisfied: toolz in /usr/local/lib/python3.10/dist-packages (from altair<6.0,>=4.2.0->gradio) (0.12.0)\n",
            "Requirement already satisfied: fsspec in /usr/local/lib/python3.10/dist-packages (from gradio-client>=0.2.10->gradio) (2023.6.0)\n",
            "Requirement already satisfied: filelock in /usr/local/lib/python3.10/dist-packages (from huggingface-hub>=0.14.0->gradio) (3.12.2)\n",
            "Requirement already satisfied: tqdm>=4.42.1 in /usr/local/lib/python3.10/dist-packages (from huggingface-hub>=0.14.0->gradio) (4.65.0)\n",
            "Requirement already satisfied: mdurl~=0.1 in /usr/local/lib/python3.10/dist-packages (from markdown-it-py[linkify]>=2.0.0->gradio) (0.1.2)\n",
            "Requirement already satisfied: linkify-it-py<3,>=1 in /usr/local/lib/python3.10/dist-packages (from markdown-it-py[linkify]>=2.0.0->gradio) (2.0.2)\n",
            "Requirement already satisfied: contourpy>=1.0.1 in /usr/local/lib/python3.10/dist-packages (from matplotlib~=3.0->gradio) (1.1.0)\n",
            "Requirement already satisfied: cycler>=0.10 in /usr/local/lib/python3.10/dist-packages (from matplotlib~=3.0->gradio) (0.11.0)\n",
            "Requirement already satisfied: fonttools>=4.22.0 in /usr/local/lib/python3.10/dist-packages (from matplotlib~=3.0->gradio) (4.41.1)\n",
            "Requirement already satisfied: kiwisolver>=1.0.1 in /usr/local/lib/python3.10/dist-packages (from matplotlib~=3.0->gradio) (1.4.4)\n",
            "Requirement already satisfied: pyparsing>=2.3.1 in /usr/local/lib/python3.10/dist-packages (from matplotlib~=3.0->gradio) (3.1.0)\n",
            "Requirement already satisfied: python-dateutil>=2.7 in /usr/local/lib/python3.10/dist-packages (from matplotlib~=3.0->gradio) (2.8.2)\n",
            "Requirement already satisfied: pytz>=2020.1 in /usr/local/lib/python3.10/dist-packages (from pandas<3.0,>=1.0->gradio) (2022.7.1)\n",
            "Requirement already satisfied: urllib3<1.27,>=1.21.1 in /usr/local/lib/python3.10/dist-packages (from requests~=2.0->gradio) (1.26.16)\n",
            "Requirement already satisfied: certifi>=2017.4.17 in /usr/local/lib/python3.10/dist-packages (from requests~=2.0->gradio) (2023.7.22)\n",
            "Requirement already satisfied: idna<4,>=2.5 in /usr/local/lib/python3.10/dist-packages (from requests~=2.0->gradio) (3.4)\n",
            "Requirement already satisfied: click>=7.0 in /usr/local/lib/python3.10/dist-packages (from uvicorn>=0.14.0->gradio) (8.1.6)\n",
            "Requirement already satisfied: h11>=0.8 in /usr/local/lib/python3.10/dist-packages (from uvicorn>=0.14.0->gradio) (0.14.0)\n",
            "Requirement already satisfied: starlette<0.28.0,>=0.27.0 in /usr/local/lib/python3.10/dist-packages (from fastapi->gradio) (0.27.0)\n",
            "Requirement already satisfied: httpcore<0.18.0,>=0.15.0 in /usr/local/lib/python3.10/dist-packages (from httpx->gradio) (0.17.3)\n",
            "Requirement already satisfied: sniffio in /usr/local/lib/python3.10/dist-packages (from httpx->gradio) (1.3.0)\n",
            "Requirement already satisfied: anyio<5.0,>=3.0 in /usr/local/lib/python3.10/dist-packages (from httpcore<0.18.0,>=0.15.0->httpx->gradio) (3.7.1)\n",
            "Requirement already satisfied: pyrsistent!=0.17.0,!=0.17.1,!=0.17.2,>=0.14.0 in /usr/local/lib/python3.10/dist-packages (from jsonschema>=3.0->altair<6.0,>=4.2.0->gradio) (0.19.3)\n",
            "Requirement already satisfied: uc-micro-py in /usr/local/lib/python3.10/dist-packages (from linkify-it-py<3,>=1->markdown-it-py[linkify]>=2.0.0->gradio) (1.0.2)\n",
            "Requirement already satisfied: six>=1.5 in /usr/local/lib/python3.10/dist-packages (from python-dateutil>=2.7->matplotlib~=3.0->gradio) (1.16.0)\n",
            "Requirement already satisfied: exceptiongroup in /usr/local/lib/python3.10/dist-packages (from anyio<5.0,>=3.0->httpcore<0.18.0,>=0.15.0->httpx->gradio) (1.1.2)\n"
          ]
        }
      ]
    },
    {
      "cell_type": "code",
      "source": [
        "import gradio as gr\n",
        "import pandas as pd\n",
        "import matplotlib.pyplot as plt\n"
      ],
      "metadata": {
        "id": "SirSqOIOQ0BI"
      },
      "execution_count": 9,
      "outputs": []
    },
    {
      "cell_type": "code",
      "source": [
        "import joblib\n",
        "\n",
        "# Upload the saved SVM model to Colab\n",
        "# Make sure you have uploaded the file named 'svm_model.sav'\n",
        "\n",
        "# Load the model from the uploaded file\n",
        "model_filename = 'svm_model.sav'\n",
        "model = joblib.load(model_filename)\n",
        "\n",
        "# Now you can use the Model variable for making predictions or other tasks\n"
      ],
      "metadata": {
        "id": "t7U7zW_hYL4a"
      },
      "execution_count": 12,
      "outputs": []
    },
    {
      "cell_type": "code",
      "source": [
        "def visualize_logs(file):\n",
        "    # Load the uploaded file into a DataFrame\n",
        "    df = pd.read_csv(file)  # You can use 'pd.read_excel()' for Excel files\n",
        "    df = df.drop(columns=['HORIZON',\"FLUVIALFACIES\"])\n",
        "    # Separate the features and labels for train and test datasets\n",
        "    X_train = df.drop(columns=['DEPT'])\n",
        "    # Standardize the features\n",
        "    scaler = StandardScaler()\n",
        "    X_train_scaled = scaler.fit_transform(df)\n",
        "    # Plotting logs vs depth\n",
        "    fig, ax = plt.subplots(figsize=(8, 6))\n",
        "    for col in df.columns[1:]:  # Assuming the depth column is the first column\n",
        "        ax.plot(df[col], df[df.columns[0]], label=col)\n",
        "    ax.set_xlabel(\"Logs\")\n",
        "    ax.set_ylabel(\"Depth\")\n",
        "    ax.invert_yaxis()  # Invert y-axis to show depth increasing downward\n",
        "    ax.legend()\n",
        "\n",
        "    # Plot predictions (if you have a model)\n",
        "    if 'model' in globals():  # Check if the model is loaded (optional)\n",
        "        # Replace 'model.predict()' with your actual model's prediction method\n",
        "        predictions = model.predict(X_train_scaled)\n",
        "        fig, ax = plt.subplots(figsize=(8, 6))\n",
        "        for class_label in set(predictions):\n",
        "            ax.scatter(df[df.columns[0]], df[df.columns[1]], c=predictions, cmap='rainbow', label=class_label)\n",
        "        ax.set_xlabel(\"Depth\")\n",
        "        ax.set_ylabel(\"Logs\")\n",
        "        ax.invert_yaxis()\n",
        "        ax.legend()\n",
        "\n",
        "    plt.show()\n",
        "\n",
        "# Create the Gradio interface\n",
        "interface = gr.Interface(\n",
        "    fn=visualize_logs,\n",
        "    inputs=\"file\",  # Specify the input type as 'file' for uploading\n",
        "    outputs=\"text\"  # Dummy output, as we only show plots\n",
        ")\n",
        "\n",
        "# Launch the Gradio interface\n",
        "interface.launch()\n"
      ],
      "metadata": {
        "id": "VskgHaxUQ2Ix",
        "outputId": "2232343c-2c79-4458-d12b-65cb0ae943b0",
        "colab": {
          "base_uri": "https://localhost:8080/",
          "height": 621
        }
      },
      "execution_count": 13,
      "outputs": [
        {
          "output_type": "stream",
          "name": "stdout",
          "text": [
            "Colab notebook detected. To show errors in colab notebook, set debug=True in launch()\n",
            "Note: opening Chrome Inspector may crash demo inside Colab notebooks.\n",
            "\n",
            "To create a public link, set `share=True` in `launch()`.\n"
          ]
        },
        {
          "output_type": "display_data",
          "data": {
            "text/plain": [
              "<IPython.core.display.Javascript object>"
            ],
            "application/javascript": [
              "(async (port, path, width, height, cache, element) => {\n",
              "                        if (!google.colab.kernel.accessAllowed && !cache) {\n",
              "                            return;\n",
              "                        }\n",
              "                        element.appendChild(document.createTextNode(''));\n",
              "                        const url = await google.colab.kernel.proxyPort(port, {cache});\n",
              "\n",
              "                        const external_link = document.createElement('div');\n",
              "                        external_link.innerHTML = `\n",
              "                            <div style=\"font-family: monospace; margin-bottom: 0.5rem\">\n",
              "                                Running on <a href=${new URL(path, url).toString()} target=\"_blank\">\n",
              "                                    https://localhost:${port}${path}\n",
              "                                </a>\n",
              "                            </div>\n",
              "                        `;\n",
              "                        element.appendChild(external_link);\n",
              "\n",
              "                        const iframe = document.createElement('iframe');\n",
              "                        iframe.src = new URL(path, url).toString();\n",
              "                        iframe.height = height;\n",
              "                        iframe.allow = \"autoplay; camera; microphone; clipboard-read; clipboard-write;\"\n",
              "                        iframe.width = width;\n",
              "                        iframe.style.border = 0;\n",
              "                        element.appendChild(iframe);\n",
              "                    })(7864, \"/\", \"100%\", 500, false, window.element)"
            ]
          },
          "metadata": {}
        },
        {
          "output_type": "execute_result",
          "data": {
            "text/plain": []
          },
          "metadata": {},
          "execution_count": 13
        }
      ]
    },
    {
      "cell_type": "code",
      "source": [
        "import pandas as pd\n",
        "import matplotlib.pyplot as plt\n",
        "from sklearn.preprocessing import StandardScaler\n",
        "\n",
        "def visualize_logs(file):\n",
        "    try:\n",
        "        # Load the uploaded file into a DataFrame\n",
        "        df = pd.read_csv(file)  # You can use 'pd.read_excel()' for Excel files\n",
        "        df = df.drop(columns=['HORIZON', \"FLUVIALFACIES\"])\n",
        "        # Separate the features and labels for train and test datasets\n",
        "        X_train = df.drop(columns=['DEPT'])\n",
        "        # Standardize the features\n",
        "        scaler = StandardScaler()\n",
        "        X_train_scaled = scaler.fit_transform(X_train)\n",
        "        # Plotting logs vs depth\n",
        "        fig, ax = plt.subplots(figsize=(8, 6))\n",
        "        for col in X_train.columns:  # Assuming the depth column is the first column\n",
        "            ax.plot(df['DEPT'], X_train[col], label=col)\n",
        "        ax.set_xlabel(\"Depth\")\n",
        "        ax.set_ylabel(\"Logs\")\n",
        "        ax.invert_yaxis()  # Invert y-axis to show depth increasing downward\n",
        "        ax.legend()\n",
        "\n",
        "        # Plot predictions (if you have a model)\n",
        "        if 'model' in globals():  # Check if the model is loaded (optional)\n",
        "            # Replace 'model.predict()' with your actual model's prediction method\n",
        "            predictions = model.predict(X_train_scaled)\n",
        "            fig, ax = plt.subplots(figsize=(8, 6))\n",
        "            for class_label in set(predictions):\n",
        "                ax.scatter(df['DEPT'], X_train['GR'], c=predictions, cmap='rainbow', label=class_label)\n",
        "            ax.set_xlabel(\"Depth\")\n",
        "            ax.set_ylabel(\"GR (Gamma Ray)\")\n",
        "            ax.invert_yaxis()\n",
        "            ax.legend()\n",
        "\n",
        "        plt.show()\n",
        "    except Exception as e:\n",
        "        print(\"Error occurred:\", e)\n",
        "\n",
        "# Create the Gradio interface\n",
        "interface = gr.Interface(\n",
        "    fn=visualize_logs,\n",
        "    inputs=\"file\",  # Specify the input type as 'file' for uploading\n",
        "    outputs=\"text\"  # Dummy output, as we only show plots\n",
        ")\n",
        "\n",
        "# Launch the Gradio interface\n",
        "interface.launch()\n"
      ],
      "metadata": {
        "id": "nQvoLEUqQ61E",
        "outputId": "dfed992b-fbc8-44f0-9ed2-b94f24cb1961",
        "colab": {
          "base_uri": "https://localhost:8080/",
          "height": 621
        }
      },
      "execution_count": 14,
      "outputs": [
        {
          "output_type": "stream",
          "name": "stdout",
          "text": [
            "Colab notebook detected. To show errors in colab notebook, set debug=True in launch()\n",
            "Note: opening Chrome Inspector may crash demo inside Colab notebooks.\n",
            "\n",
            "To create a public link, set `share=True` in `launch()`.\n"
          ]
        },
        {
          "output_type": "display_data",
          "data": {
            "text/plain": [
              "<IPython.core.display.Javascript object>"
            ],
            "application/javascript": [
              "(async (port, path, width, height, cache, element) => {\n",
              "                        if (!google.colab.kernel.accessAllowed && !cache) {\n",
              "                            return;\n",
              "                        }\n",
              "                        element.appendChild(document.createTextNode(''));\n",
              "                        const url = await google.colab.kernel.proxyPort(port, {cache});\n",
              "\n",
              "                        const external_link = document.createElement('div');\n",
              "                        external_link.innerHTML = `\n",
              "                            <div style=\"font-family: monospace; margin-bottom: 0.5rem\">\n",
              "                                Running on <a href=${new URL(path, url).toString()} target=\"_blank\">\n",
              "                                    https://localhost:${port}${path}\n",
              "                                </a>\n",
              "                            </div>\n",
              "                        `;\n",
              "                        element.appendChild(external_link);\n",
              "\n",
              "                        const iframe = document.createElement('iframe');\n",
              "                        iframe.src = new URL(path, url).toString();\n",
              "                        iframe.height = height;\n",
              "                        iframe.allow = \"autoplay; camera; microphone; clipboard-read; clipboard-write;\"\n",
              "                        iframe.width = width;\n",
              "                        iframe.style.border = 0;\n",
              "                        element.appendChild(iframe);\n",
              "                    })(7865, \"/\", \"100%\", 500, false, window.element)"
            ]
          },
          "metadata": {}
        },
        {
          "output_type": "execute_result",
          "data": {
            "text/plain": []
          },
          "metadata": {},
          "execution_count": 14
        }
      ]
    },
    {
      "cell_type": "code",
      "source": [
        "import pandas as pd\n",
        "import matplotlib.pyplot as plt\n",
        "from sklearn.preprocessing import StandardScaler\n",
        "\n",
        "def visualize_logs(file):\n",
        "    try:\n",
        "        # Load the uploaded file into a DataFrame\n",
        "        df = pd.read_csv(file)  # You can use 'pd.read_excel()' for Excel files\n",
        "        df = df.drop(columns=['HORIZON', \"FLUVIALFACIES\"])\n",
        "        # Separate the features and labels for train and test datasets\n",
        "        X_train = df.drop(columns=['DEPT'])\n",
        "        # Standardize the features\n",
        "        scaler = StandardScaler()\n",
        "        X_train_scaled = scaler.fit_transform(X_train)\n",
        "        # Plotting logs vs depth\n",
        "        fig, ax = plt.subplots(figsize=(8, 6))\n",
        "        for col in X_train.columns:  # Assuming the depth column is the first column\n",
        "            ax.plot(df['DEPT'], X_train[col], label=col)\n",
        "        ax.set_xlabel(\"Depth\")\n",
        "        ax.set_ylabel(\"Logs\")\n",
        "        ax.invert_yaxis()  # Invert y-axis to show depth increasing downward\n",
        "        ax.legend()\n",
        "\n",
        "        # Plot predictions (if you have a model)\n",
        "        if 'model' in globals():  # Check if the model is loaded (optional)\n",
        "            # Replace 'model.predict()' with your actual model's prediction method\n",
        "            predictions = model.predict(X_train_scaled)\n",
        "            fig, ax = plt.subplots(figsize=(8, 6))\n",
        "            for class_label in set(predictions):\n",
        "                ax.scatter(df['DEPT'], X_train['GR'], c=predictions, cmap='rainbow', label=class_label)\n",
        "            ax.set_xlabel(\"Depth\")\n",
        "            ax.set_ylabel(\"GR (Gamma Ray)\")\n",
        "            ax.invert_yaxis()\n",
        "            ax.legend()\n",
        "\n",
        "        plt.show(block=True)  # Force the plot to display\n",
        "\n",
        "    except Exception as e:\n",
        "        print(\"Error occurred:\", e)\n",
        "\n",
        "# Create the Gradio interface\n",
        "interface = gr.Interface(\n",
        "    fn=visualize_logs,\n",
        "    inputs=\"file\",  # Specify the input type as 'file' for uploading\n",
        "    outputs=\"text\"  # Dummy output, as we only show plots\n",
        ")\n",
        "\n",
        "# Launch the Gradio interface\n",
        "interface.launch()\n"
      ],
      "metadata": {
        "id": "6Utx50qHZKNv",
        "outputId": "80548be9-c73d-497a-eda4-956f5606e5b3",
        "colab": {
          "base_uri": "https://localhost:8080/",
          "height": 621
        }
      },
      "execution_count": 15,
      "outputs": [
        {
          "output_type": "stream",
          "name": "stdout",
          "text": [
            "Colab notebook detected. To show errors in colab notebook, set debug=True in launch()\n",
            "Note: opening Chrome Inspector may crash demo inside Colab notebooks.\n",
            "\n",
            "To create a public link, set `share=True` in `launch()`.\n"
          ]
        },
        {
          "output_type": "display_data",
          "data": {
            "text/plain": [
              "<IPython.core.display.Javascript object>"
            ],
            "application/javascript": [
              "(async (port, path, width, height, cache, element) => {\n",
              "                        if (!google.colab.kernel.accessAllowed && !cache) {\n",
              "                            return;\n",
              "                        }\n",
              "                        element.appendChild(document.createTextNode(''));\n",
              "                        const url = await google.colab.kernel.proxyPort(port, {cache});\n",
              "\n",
              "                        const external_link = document.createElement('div');\n",
              "                        external_link.innerHTML = `\n",
              "                            <div style=\"font-family: monospace; margin-bottom: 0.5rem\">\n",
              "                                Running on <a href=${new URL(path, url).toString()} target=\"_blank\">\n",
              "                                    https://localhost:${port}${path}\n",
              "                                </a>\n",
              "                            </div>\n",
              "                        `;\n",
              "                        element.appendChild(external_link);\n",
              "\n",
              "                        const iframe = document.createElement('iframe');\n",
              "                        iframe.src = new URL(path, url).toString();\n",
              "                        iframe.height = height;\n",
              "                        iframe.allow = \"autoplay; camera; microphone; clipboard-read; clipboard-write;\"\n",
              "                        iframe.width = width;\n",
              "                        iframe.style.border = 0;\n",
              "                        element.appendChild(iframe);\n",
              "                    })(7866, \"/\", \"100%\", 500, false, window.element)"
            ]
          },
          "metadata": {}
        },
        {
          "output_type": "execute_result",
          "data": {
            "text/plain": []
          },
          "metadata": {},
          "execution_count": 15
        }
      ]
    },
    {
      "cell_type": "code",
      "source": [
        "import pandas as pd\n",
        "import matplotlib.pyplot as plt\n",
        "from sklearn.preprocessing import StandardScaler\n",
        "import io\n",
        "\n",
        "def visualize_logs(file):\n",
        "    try:\n",
        "        # Load the uploaded file into a DataFrame\n",
        "        df = pd.read_csv(file)  # You can use 'pd.read_excel()' for Excel files\n",
        "        df = df.drop(columns=['HORIZON', \"FLUVIALFACIES\"])\n",
        "        # Separate the features and labels for train and test datasets\n",
        "        X_train = df.drop(columns=['DEPT'])\n",
        "        # Standardize the features\n",
        "        scaler = StandardScaler()\n",
        "        X_train_scaled = scaler.fit_transform(X_train)\n",
        "        # Plotting logs vs depth\n",
        "        fig, ax = plt.subplots(figsize=(8, 6))\n",
        "        for col in X_train.columns:  # Assuming the depth column is the first column\n",
        "            ax.plot(df['DEPT'], X_train[col], label=col)\n",
        "        ax.set_xlabel(\"Depth\")\n",
        "        ax.set_ylabel(\"Logs\")\n",
        "        ax.invert_yaxis()  # Invert y-axis to show depth increasing downward\n",
        "        ax.legend()\n",
        "        plt.savefig('/tmp/plot1.png')  # Save the plot as an image\n",
        "\n",
        "        # Plot predictions (if you have a model)\n",
        "        if 'model' in globals():  # Check if the model is loaded (optional)\n",
        "            # Replace 'model.predict()' with your actual model's prediction method\n",
        "            predictions = model.predict(X_train_scaled)\n",
        "            fig, ax = plt.subplots(figsize=(8, 6))\n",
        "            for class_label in set(predictions):\n",
        "                ax.scatter(df['DEPT'], X_train['GR'], c=predictions, cmap='rainbow', label=class_label)\n",
        "            ax.set_xlabel(\"Depth\")\n",
        "            ax.set_ylabel(\"GR (Gamma Ray)\")\n",
        "            ax.invert_yaxis()\n",
        "            ax.legend()\n",
        "            plt.savefig('/tmp/plot2.png')  # Save the plot as an image\n",
        "\n",
        "        plt.close('all')  # Close all open plots to prevent overlapping\n",
        "\n",
        "        # Prepare the output for Gradio\n",
        "        output = {}\n",
        "        with open(\"/tmp/plot1.png\", \"rb\") as f:\n",
        "            output['Plot 1'] = f.read()\n",
        "        if 'model' in globals():\n",
        "            with open(\"/tmp/plot2.png\", \"rb\") as f:\n",
        "                output['Plot 2'] = f.read()\n",
        "\n",
        "        return output\n",
        "\n",
        "    except Exception as e:\n",
        "        print(\"Error occurred:\", e)\n",
        "\n",
        "# Create the Gradio interface\n",
        "interface = gr.Interface(\n",
        "    fn=visualize_logs,\n",
        "    inputs=\"file\",  # Specify the input type as 'file' for uploading\n",
        "    outputs=\"image\"  # Output type is \"image\" to display plots\n",
        ")\n",
        "\n",
        "# Launch the Gradio interface\n",
        "interface.launch()\n"
      ],
      "metadata": {
        "id": "6TACSEdVZmuC",
        "outputId": "249e4d48-5f33-441e-d8f0-4fd5e8a305bc",
        "colab": {
          "base_uri": "https://localhost:8080/",
          "height": 621
        }
      },
      "execution_count": 16,
      "outputs": [
        {
          "output_type": "stream",
          "name": "stdout",
          "text": [
            "Colab notebook detected. To show errors in colab notebook, set debug=True in launch()\n",
            "Note: opening Chrome Inspector may crash demo inside Colab notebooks.\n",
            "\n",
            "To create a public link, set `share=True` in `launch()`.\n"
          ]
        },
        {
          "output_type": "display_data",
          "data": {
            "text/plain": [
              "<IPython.core.display.Javascript object>"
            ],
            "application/javascript": [
              "(async (port, path, width, height, cache, element) => {\n",
              "                        if (!google.colab.kernel.accessAllowed && !cache) {\n",
              "                            return;\n",
              "                        }\n",
              "                        element.appendChild(document.createTextNode(''));\n",
              "                        const url = await google.colab.kernel.proxyPort(port, {cache});\n",
              "\n",
              "                        const external_link = document.createElement('div');\n",
              "                        external_link.innerHTML = `\n",
              "                            <div style=\"font-family: monospace; margin-bottom: 0.5rem\">\n",
              "                                Running on <a href=${new URL(path, url).toString()} target=\"_blank\">\n",
              "                                    https://localhost:${port}${path}\n",
              "                                </a>\n",
              "                            </div>\n",
              "                        `;\n",
              "                        element.appendChild(external_link);\n",
              "\n",
              "                        const iframe = document.createElement('iframe');\n",
              "                        iframe.src = new URL(path, url).toString();\n",
              "                        iframe.height = height;\n",
              "                        iframe.allow = \"autoplay; camera; microphone; clipboard-read; clipboard-write;\"\n",
              "                        iframe.width = width;\n",
              "                        iframe.style.border = 0;\n",
              "                        element.appendChild(iframe);\n",
              "                    })(7867, \"/\", \"100%\", 500, false, window.element)"
            ]
          },
          "metadata": {}
        },
        {
          "output_type": "execute_result",
          "data": {
            "text/plain": []
          },
          "metadata": {},
          "execution_count": 16
        }
      ]
    },
    {
      "cell_type": "code",
      "source": [
        "import pandas as pd\n",
        "import matplotlib.pyplot as plt\n",
        "from sklearn.preprocessing import StandardScaler\n",
        "import gradio as gr\n",
        "\n",
        "def visualize_logs(file):\n",
        "    try:\n",
        "        # Load the uploaded file into a DataFrame\n",
        "        df = pd.read_csv(file)  # You can use 'pd.read_excel()' for Excel files\n",
        "        df = df.drop(columns=['HORIZON', \"FLUVIALFACIES\"])\n",
        "        # Separate the features and labels for train and test datasets\n",
        "        X_train = df.drop(columns=['DEPT'])\n",
        "        # Standardize the features\n",
        "        scaler = StandardScaler()\n",
        "        X_train_scaled = scaler.fit_transform(X_train)\n",
        "        # Plotting logs vs depth\n",
        "        fig1, ax1 = plt.subplots(figsize=(8, 6))\n",
        "        for col in X_train.columns:  # Assuming the depth column is the first column\n",
        "            ax1.plot(df['DEPT'], X_train[col], label=col)\n",
        "        ax1.set_xlabel(\"Depth\")\n",
        "        ax1.set_ylabel(\"Logs\")\n",
        "        ax1.invert_yaxis()  # Invert y-axis to show depth increasing downward\n",
        "        ax1.legend()\n",
        "\n",
        "        # Plot predictions (if you have a model)\n",
        "        if 'model' in globals():  # Check if the model is loaded (optional)\n",
        "            # Replace 'model.predict()' with your actual model's prediction method\n",
        "            predictions = model.predict(X_train_scaled)\n",
        "            fig2, ax2 = plt.subplots(figsize=(8, 6))\n",
        "            for class_label in set(predictions):\n",
        "                ax2.scatter(df['DEPT'], X_train['GR'], c=predictions, cmap='rainbow', label=class_label)\n",
        "            ax2.set_xlabel(\"Depth\")\n",
        "            ax2.set_ylabel(\"GR (Gamma Ray)\")\n",
        "            ax2.invert_yaxis()\n",
        "            ax2.legend()\n",
        "\n",
        "        return [fig1, fig2] if 'model' in globals() else [fig1]\n",
        "\n",
        "    except Exception as e:\n",
        "        print(\"Error occurred:\", e)\n",
        "\n",
        "# Create the Gradio interface\n",
        "interface = gr.Interface(\n",
        "    fn=visualize_logs,\n",
        "    inputs=\"file\",  # Specify the input type as 'file' for uploading\n",
        "    outputs=\"plot\"  # Output type is \"plot\" to display plots\n",
        ")\n",
        "\n",
        "# Launch the Gradio interface\n",
        "interface.launch()\n"
      ],
      "metadata": {
        "id": "HibYnNcJaA9-",
        "outputId": "e7f61f8e-f490-462e-cc49-f82d021c84d6",
        "colab": {
          "base_uri": "https://localhost:8080/",
          "height": 621
        }
      },
      "execution_count": 17,
      "outputs": [
        {
          "output_type": "stream",
          "name": "stdout",
          "text": [
            "Colab notebook detected. To show errors in colab notebook, set debug=True in launch()\n",
            "Note: opening Chrome Inspector may crash demo inside Colab notebooks.\n",
            "\n",
            "To create a public link, set `share=True` in `launch()`.\n"
          ]
        },
        {
          "output_type": "display_data",
          "data": {
            "text/plain": [
              "<IPython.core.display.Javascript object>"
            ],
            "application/javascript": [
              "(async (port, path, width, height, cache, element) => {\n",
              "                        if (!google.colab.kernel.accessAllowed && !cache) {\n",
              "                            return;\n",
              "                        }\n",
              "                        element.appendChild(document.createTextNode(''));\n",
              "                        const url = await google.colab.kernel.proxyPort(port, {cache});\n",
              "\n",
              "                        const external_link = document.createElement('div');\n",
              "                        external_link.innerHTML = `\n",
              "                            <div style=\"font-family: monospace; margin-bottom: 0.5rem\">\n",
              "                                Running on <a href=${new URL(path, url).toString()} target=\"_blank\">\n",
              "                                    https://localhost:${port}${path}\n",
              "                                </a>\n",
              "                            </div>\n",
              "                        `;\n",
              "                        element.appendChild(external_link);\n",
              "\n",
              "                        const iframe = document.createElement('iframe');\n",
              "                        iframe.src = new URL(path, url).toString();\n",
              "                        iframe.height = height;\n",
              "                        iframe.allow = \"autoplay; camera; microphone; clipboard-read; clipboard-write;\"\n",
              "                        iframe.width = width;\n",
              "                        iframe.style.border = 0;\n",
              "                        element.appendChild(iframe);\n",
              "                    })(7868, \"/\", \"100%\", 500, false, window.element)"
            ]
          },
          "metadata": {}
        },
        {
          "output_type": "execute_result",
          "data": {
            "text/plain": []
          },
          "metadata": {},
          "execution_count": 17
        }
      ]
    },
    {
      "cell_type": "code",
      "source": [
        "import pandas as pd\n",
        "import gradio as gr\n",
        "import plotly.express as px\n",
        "from sklearn.preprocessing import StandardScaler\n",
        "\n",
        "def visualize_logs(file):\n",
        "    try:\n",
        "        # Load the uploaded file into a DataFrame\n",
        "        df = pd.read_csv(file)  # You can use 'pd.read_excel()' for Excel files\n",
        "        df = df.drop(columns=['HORIZON', \"FLUVIALFACIES\"])\n",
        "        # Separate the features and labels for train and test datasets\n",
        "        X_train = df.drop(columns=['DEPT'])\n",
        "        # Standardize the features\n",
        "        scaler = StandardScaler()\n",
        "        X_train_scaled = scaler.fit_transform(X_train)\n",
        "\n",
        "        # Plotting logs vs depth using Plotly\n",
        "        fig1 = px.line(df, x='DEPT', y=X_train.columns, title=\"Logs vs Depth\")\n",
        "        fig1.update_layout(yaxis=dict(autorange=\"reversed\"))  # Invert y-axis to show depth increasing downward\n",
        "\n",
        "        # Plot predictions (if you have a model)\n",
        "        if 'model' in globals():  # Check if the model is loaded (optional)\n",
        "            # Replace 'model.predict()' with your actual model's prediction method\n",
        "            predictions = model.predict(X_train_scaled)\n",
        "            df['Prediction'] = predictions\n",
        "            fig2 = px.scatter(df, x='DEPT', y='GR', color='Prediction', title=\"Prediction (Categorical Variable)\")\n",
        "            fig2.update_layout(yaxis=dict(autorange=\"reversed\"))  # Invert y-axis to show depth increasing downward\n",
        "        else:\n",
        "            fig2 = None\n",
        "\n",
        "        return [fig1, fig2]\n",
        "\n",
        "    except Exception as e:\n",
        "        print(\"Error occurred:\", e)\n",
        "\n",
        "# Create the Gradio interface\n",
        "interface = gr.Interface(\n",
        "    fn=visualize_logs,\n",
        "    inputs=\"file\",  # Specify the input type as 'file' for uploading\n",
        "    outputs=\"plot\"  # Output type is \"plot\" to display plots\n",
        ")\n",
        "\n",
        "# Launch the Gradio interface\n",
        "interface.launch(share=True)\n"
      ],
      "metadata": {
        "id": "ef0NIy_na_Ht",
        "outputId": "8697ac61-fb96-42f7-aae3-f2d319e3b26a",
        "colab": {
          "base_uri": "https://localhost:8080/",
          "height": 616
        }
      },
      "execution_count": 19,
      "outputs": [
        {
          "output_type": "stream",
          "name": "stdout",
          "text": [
            "Colab notebook detected. To show errors in colab notebook, set debug=True in launch()\n",
            "Running on public URL: https://4d3b89c5092dfffa74.gradio.live\n",
            "\n",
            "This share link expires in 72 hours. For free permanent hosting and GPU upgrades, run `gradio deploy` from Terminal to deploy to Spaces (https://huggingface.co/spaces)\n"
          ]
        },
        {
          "output_type": "display_data",
          "data": {
            "text/plain": [
              "<IPython.core.display.HTML object>"
            ],
            "text/html": [
              "<div><iframe src=\"https://4d3b89c5092dfffa74.gradio.live\" width=\"100%\" height=\"500\" allow=\"autoplay; camera; microphone; clipboard-read; clipboard-write;\" frameborder=\"0\" allowfullscreen></iframe></div>"
            ]
          },
          "metadata": {}
        },
        {
          "output_type": "execute_result",
          "data": {
            "text/plain": []
          },
          "metadata": {},
          "execution_count": 19
        }
      ]
    },
    {
      "cell_type": "code",
      "source": [
        "import pandas as pd\n",
        "import gradio as gr\n",
        "from sklearn.preprocessing import StandardScaler\n",
        "\n",
        "def visualize_logs(file):\n",
        "    try:\n",
        "        # Load the uploaded file into a DataFrame\n",
        "        df = pd.read_csv(file)  # You can use 'pd.read_excel()' for Excel files\n",
        "        df = df.drop(columns=['HORIZON', \"FLUVIALFACIES\"])\n",
        "        # Separate the features and labels for train and test datasets\n",
        "        X_train = df.drop(columns=['DEPT'])\n",
        "        # Standardize the features\n",
        "        scaler = StandardScaler()\n",
        "        X_train_scaled = scaler.fit_transform(X_train)\n",
        "\n",
        "        # Plot predictions (if you have a model)\n",
        "        if 'model' in globals():  # Check if the model is loaded (optional)\n",
        "            # Replace 'model.predict()' with your actual model's prediction method\n",
        "            predictions = model.predict(X_train_scaled)\n",
        "            df['Prediction'] = predictions\n",
        "\n",
        "        # Save the DataFrame with predictions as a CSV file\n",
        "        output_csv_path = '/tmp/output_predictions.csv'\n",
        "        df.to_csv(output_csv_path, index=False)\n",
        "\n",
        "        return output_csv_path\n",
        "\n",
        "    except Exception as e:\n",
        "        print(\"Error occurred:\", e)\n",
        "\n",
        "# Create the Gradio interface\n",
        "interface = gr.Interface(\n",
        "    fn=visualize_logs,\n",
        "    inputs=\"file\",  # Specify the input type as 'file' for uploading\n",
        "    outputs=\"file\"  # Output type is \"file\" to download the CSV file\n",
        ")\n",
        "\n",
        "# Launch the Gradio interface\n",
        "interface.launch()\n"
      ],
      "metadata": {
        "id": "-N8w9Yrjb95F",
        "outputId": "2334f620-90e0-49e7-8195-61bf166887f2",
        "colab": {
          "base_uri": "https://localhost:8080/",
          "height": 621
        }
      },
      "execution_count": 20,
      "outputs": [
        {
          "output_type": "stream",
          "name": "stdout",
          "text": [
            "Colab notebook detected. To show errors in colab notebook, set debug=True in launch()\n",
            "Note: opening Chrome Inspector may crash demo inside Colab notebooks.\n",
            "\n",
            "To create a public link, set `share=True` in `launch()`.\n"
          ]
        },
        {
          "output_type": "display_data",
          "data": {
            "text/plain": [
              "<IPython.core.display.Javascript object>"
            ],
            "application/javascript": [
              "(async (port, path, width, height, cache, element) => {\n",
              "                        if (!google.colab.kernel.accessAllowed && !cache) {\n",
              "                            return;\n",
              "                        }\n",
              "                        element.appendChild(document.createTextNode(''));\n",
              "                        const url = await google.colab.kernel.proxyPort(port, {cache});\n",
              "\n",
              "                        const external_link = document.createElement('div');\n",
              "                        external_link.innerHTML = `\n",
              "                            <div style=\"font-family: monospace; margin-bottom: 0.5rem\">\n",
              "                                Running on <a href=${new URL(path, url).toString()} target=\"_blank\">\n",
              "                                    https://localhost:${port}${path}\n",
              "                                </a>\n",
              "                            </div>\n",
              "                        `;\n",
              "                        element.appendChild(external_link);\n",
              "\n",
              "                        const iframe = document.createElement('iframe');\n",
              "                        iframe.src = new URL(path, url).toString();\n",
              "                        iframe.height = height;\n",
              "                        iframe.allow = \"autoplay; camera; microphone; clipboard-read; clipboard-write;\"\n",
              "                        iframe.width = width;\n",
              "                        iframe.style.border = 0;\n",
              "                        element.appendChild(iframe);\n",
              "                    })(7871, \"/\", \"100%\", 500, false, window.element)"
            ]
          },
          "metadata": {}
        },
        {
          "output_type": "execute_result",
          "data": {
            "text/plain": []
          },
          "metadata": {},
          "execution_count": 20
        }
      ]
    },
    {
      "cell_type": "code",
      "source": [
        "import pandas as pd\n",
        "import gradio as gr\n",
        "from sklearn.preprocessing import StandardScaler\n",
        "\n",
        "def visualize_logs(file):\n",
        "    # Load the uploaded file into a DataFrame\n",
        "    df = pd.read_csv(file)  # You can use 'pd.read_excel()' for Excel files\n",
        "    df = df.drop(columns=['HORIZON', \"FLUVIALFACIES\"])\n",
        "    # Separate the features and labels for train and test datasets\n",
        "    X_train = df.drop(columns=['DEPT'])\n",
        "    # Standardize the features\n",
        "    scaler = StandardScaler()\n",
        "    X_train_scaled = scaler.fit_transform(X_train)\n",
        "\n",
        "    # Plot predictions (if you have a model)\n",
        "    if 'model' in globals():  # Check if the model is loaded (optional)\n",
        "        # Replace 'model.predict()' with your actual model's prediction method\n",
        "        predictions = model.predict(X_train_scaled)\n",
        "        df['Prediction'] = predictions\n",
        "\n",
        "    # Save the DataFrame with predictions as a CSV file\n",
        "    output_csv_path = '/tmp/output_predictions.csv'\n",
        "    df.to_csv(output_csv_path, index=False)\n",
        "\n",
        "    return output_csv_path\n",
        "\n",
        "# Create the Gradio interface\n",
        "interface = gr.Interface(\n",
        "    fn=visualize_logs,\n",
        "    inputs=\"file\",  # Specify the input type as 'file' for uploading\n",
        "    outputs=\"file\"  # Output type is \"file\" to download the CSV file\n",
        ")\n",
        "\n",
        "# Launch the Gradio interface\n",
        "interface.launch()\n"
      ],
      "metadata": {
        "id": "xccKPYBMdfPj"
      },
      "execution_count": null,
      "outputs": []
    },
    {
      "cell_type": "code",
      "source": [],
      "metadata": {
        "id": "07I3mN3nd-aG"
      },
      "execution_count": null,
      "outputs": []
    }
  ],
  "metadata": {
    "colab": {
      "provenance": [],
      "include_colab_link": true
    },
    "kernelspec": {
      "display_name": "Python 3",
      "name": "python3"
    }
  },
  "nbformat": 4,
  "nbformat_minor": 0
}